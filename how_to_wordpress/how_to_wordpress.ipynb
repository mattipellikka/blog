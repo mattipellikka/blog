{
 "cells": [
  {
   "cell_type": "markdown",
   "metadata": {
    "deletable": true,
    "editable": true
   },
   "source": [
    "# A blogging workflow with Jupyter and Wordpress\n",
    "**Abstract:** How to convert your Jupyter notebook as blog post, including all the Wordpress features, plots, custom formatting, and latex formulas."
   ]
  },
  {
   "cell_type": "markdown",
   "metadata": {
    "deletable": true,
    "editable": true
   },
   "source": [
    "For me, [Jupyter](http://jupyter.org/) is a ready made solution for two problems simultaneously. It's a great tool for prototyping all sorts of algorithms in the [SciPy](https://www.scipy.org/) environment, while it also does a fantastic job in taking up notes on the mathematics behind those algorithms, thanks to Markdown and the beautiful MathML formatting of mathematical formulas in Latex syntax.\n",
    "\n",
    "To publish a Jupyter notebook, you can simply upload the .ipynb file to GitHub, which renders as a static page as you open it there like [this][this]. However, when writing a blog, you would like to have your own site style, and more site structure and features, other than just dropping individual notebooks here and there. \n",
    "\n",
    "To easily maintain a blogging site with styles, site structure, and comments, there's [WordPress](https://wordpress.com/). I will explain my attempt to translate a Jupyter notebook to a post in Wordpress with minimal manual labour. The steps are very similar to the ones in a post by [Mian Chen][mianchen], which helped me a lot. The process has four main steps\n",
    "\n",
    "1. Write a blog post in a Jupyter notebook\n",
    "2. Convert the notebook to plain HTML and copy and paste it into your WordPress post\n",
    "3. Setup WordPress to properly format Latex syntax as MathML and various cells nicely with CSS, you need to do this step only once\n",
    "\n",
    "In the following sections, I will explain those steps in detail.  \n",
    "\n",
    "[this]: [https://github.com/mattipellikka/blog/blob/master/how_to_wordpress/how_to_wordpress.ipynb]\n",
    "[mianchen]: http://www.mianchen.com/wordpress-blogging-with-jupyter-notebook-in-five-simple-steps/"
   ]
  },
  {
   "cell_type": "markdown",
   "metadata": {},
   "source": [
    "## Sample post\n",
    "Here's a simple blog post to demonstrate various things a wanted to work in the resulting Wordpress post: Markdown and Latex formulas in MathML, Matplotlib image output, and code sections properly formatted. This is also a boilerplate for most of my Jupyter notebooks."
   ]
  },
  {
   "cell_type": "markdown",
   "metadata": {},
   "source": [
    "### How to numerically solve an ordinary differential equation in SciPy \n",
    "$$ \\begin{bmatrix}\n",
    "1 & 1 \n",
    "\\end{bmatrix}$$"
   ]
  },
  {
   "cell_type": "code",
   "execution_count": 9,
   "metadata": {
    "collapsed": false,
    "deletable": true,
    "editable": true
   },
   "outputs": [],
   "source": [
    "# preample\n",
    "import numpy as np\n",
    "import matplotlib.pyplot as plt; \n",
    "from IPython.display import display\n",
    "%matplotlib inline\n",
    "from IPython.display import set_matplotlib_formats\n",
    "set_matplotlib_formats('pdf', 'png')"
   ]
  },
  {
   "cell_type": "markdown",
   "metadata": {},
   "source": [
    "## Convert Jupyter notebook as HTML\n",
    "To convert the Jupyter notebook .ipynb file as basic HTML run the following command:\n",
    "\n",
    "Linux: \n",
    "```\n",
    "jupyter nbconvert --to html --template basic notebook.ipynb notebook.html\n",
    "\n",
    "```\n",
    "\n",
    "\n",
    "Windows: \n",
    "```\n",
    "jupyter-nbconvert.exe --to html --template basic notebook.ipynb notebook.html\n",
    "\n",
    "```\n",
    "Assuming the folder of ```jupyter-nbconvert.exe``` is specified in your PATH environment variable."
   ]
  },
  {
   "cell_type": "markdown",
   "metadata": {},
   "source": [
    "## WordPress setup\n",
    "\n",
    "1. To properly display Latex syntax inside \\$ \\$, \\$\\$ \\$\\$, or various other Latex tags suported by Jupyter notebook, install *QuickLaTeX* WordPress plugin. To make it automatically enabled in all your posts, in WordPress, go to *QuickLaTeX* -> *Advanced* and enable *Use LaTeX Syntax Sitewide*. \n",
    "\n",
    "2. To format your notebook nicely, in WordPress, go to *Appearance* -> *Edit CSS*, and copy and paste the following definitions in the *Additional CSS* dialog. You may customize the style for your liking."
   ]
  },
  {
   "cell_type": "markdown",
   "metadata": {},
   "source": [
    "```CSS\n",
    "/************** Jupyter Notebook CSS ************************/\n",
    ".input_prompt {\n",
    "    color: #0066cc;\n",
    "}\n",
    ".output_prompt{\n",
    "    color:#cc0000;\n",
    "}\n",
    ".prompt{\n",
    "    font-family: monospace;\n",
    "    font-size: 14px;\n",
    "}\n",
    ".c, c1 {\n",
    "    color: #408080;\n",
    "    font-style: italic;\n",
    "}\n",
    ".k {\n",
    "    color: #338822;\n",
    "    font-weight: bold;\n",
    "}\n",
    ".kn {\n",
    "    color: #338822;\n",
    "    font-weight: bold;\n",
    "}\n",
    ".mi {\n",
    "    color: #008800;\n",
    "}\n",
    ".mf {\n",
    "    color: #008800;\n",
    "}\n",
    ".o {\n",
    "    color: #9966ff;\n",
    "}\n",
    ".ow {\n",
    "    color: #BA22FF;\n",
    "    font-weight: bold;\n",
    "}\n",
    ".nb {\n",
    "    color: #338822;\n",
    "}\n",
    ".n {\n",
    "    color: #000000;\n",
    "}\n",
    ".s, .s1 {\n",
    "    color: #cc2222;\n",
    "}\n",
    ".se {\n",
    "    color: #cc2222;\n",
    "    font-weight: bold;\n",
    "}\n",
    ".si {\n",
    "    color: #C06688;\n",
    "    font-weigh\n",
    "    t: bold;\n",
    "}\n",
    ".nn {\n",
    "    color: #4D00FF;\n",
    "    font-weight: bold;\n",
    "}\n",
    ".output_area pre {\n",
    "    background-color: #FFFFFF;\n",
    "    padding-left: 5%;\n",
    "}\n",
    ".code_cell {\n",
    "    padding-left: 1%;\n",
    "}\n",
    ".cell {\n",
    "    margin-top: 10px;\n",
    "    margin-bottom: 10px;\n",
    "}\n",
    "br {\n",
    "    line-height: 2;\n",
    "}\n",
    ".cell h1, h2, h3, h4 {\n",
    "    margin-top: 30px;\n",
    "    margin-bottom: 10px;\n",
    "}\n",
    "/************** Jupyter Notebook CSS ************************/\n",
    "```"
   ]
  },
  {
   "cell_type": "markdown",
   "metadata": {},
   "source": [
    "## Done\n"
   ]
  }
 ],
 "metadata": {
  "kernelspec": {
   "display_name": "Python 3",
   "language": "python",
   "name": "python3"
  },
  "language_info": {
   "codemirror_mode": {
    "name": "ipython",
    "version": 3
   },
   "file_extension": ".py",
   "mimetype": "text/x-python",
   "name": "python",
   "nbconvert_exporter": "python",
   "pygments_lexer": "ipython3",
   "version": "3.5.3"
  }
 },
 "nbformat": 4,
 "nbformat_minor": 2
}
