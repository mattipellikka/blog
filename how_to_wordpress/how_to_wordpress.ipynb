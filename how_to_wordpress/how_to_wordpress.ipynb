{
 "cells": [
  {
   "cell_type": "markdown",
   "metadata": {
    "deletable": true,
    "editable": true
   },
   "source": [
    "# A blogging workflow with Jupyter and Wordpress"
   ]
  },
  {
   "cell_type": "markdown",
   "metadata": {
    "deletable": true,
    "editable": true
   },
   "source": [
    "Abstract: How to convert your Jupyter notebook as blog post, including all the Wordpress features, plots, custom formatting, and latex formulas."
   ]
  },
  {
   "cell_type": "markdown",
   "metadata": {
    "deletable": true,
    "editable": true
   },
   "source": [
    "For me, [Jupyter](http://jupyter.org/) is a ready made solution for two problems simultaneously. It's a great tool for prototyping all sorts of algorithms in the [SciPy](https://www.scipy.org/) environment, while it also does fantastic job in taking up notes on the mathematics behind those algorithms thanks to Markdown and the beautiful formatting of mathematical formulas using the Latex syntax.\n",
    "\n",
    "To publish a Jupyter notebook, you can simply upload the .ipynb file to GitHub, which renders as a static page as you open it there like [this][this]. However, when writing a blog, you would like to have your own site style, and more site structure and features, other than just dropping individual notebooks here and there. \n",
    "\n",
    "To easily maintain a blogging site with styles, site structure, and comments, there's [Wordpress](https://wordpress.com/). In the following, I will explain my attempt to translate a Jupyter notebook to a post in Wordpress with minimal manual labour. This post by [Mian Chen][mianchen] helped me a lot.\n",
    "\n",
    "[this]: [https://github.com/mattipellikka/blog/blob/master/how_to_wordpress/how_to_wordpress.ipynb]\n",
    "[mianchen]: http://www.mianchen.com/wordpress-blogging-with-jupyter-notebook-in-five-simple-steps/"
   ]
  },
  {
   "cell_type": "code",
   "execution_count": 1,
   "metadata": {
    "collapsed": false,
    "deletable": true,
    "editable": true
   },
   "outputs": [],
   "source": [
    "# preample\n",
    "import numpy as np\n",
    "import matplotlib.pyplot as plt; \n",
    "from IPython.display import display\n",
    "%matplotlib inline\n",
    "from IPython.display import set_matplotlib_formats\n",
    "set_matplotlib_formats('pdf', 'png')"
   ]
  }
 ],
 "metadata": {
  "kernelspec": {
   "display_name": "Python 3",
   "language": "python",
   "name": "python3"
  },
  "language_info": {
   "codemirror_mode": {
    "name": "ipython",
    "version": 3
   },
   "file_extension": ".py",
   "mimetype": "text/x-python",
   "name": "python",
   "nbconvert_exporter": "python",
   "pygments_lexer": "ipython3",
   "version": "3.5.3"
  }
 },
 "nbformat": 4,
 "nbformat_minor": 2
}
